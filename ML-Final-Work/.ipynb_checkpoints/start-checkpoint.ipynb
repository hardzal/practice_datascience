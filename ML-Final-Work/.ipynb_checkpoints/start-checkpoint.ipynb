{
 "cells": [
  {
   "cell_type": "code",
   "execution_count": 15,
   "metadata": {},
   "outputs": [
    {
     "ename": "ModuleNotFoundError",
     "evalue": "No module named 'surprise'",
     "output_type": "error",
     "traceback": [
      "\u001b[1;31m---------------------------------------------------------------------------\u001b[0m",
      "\u001b[1;31mModuleNotFoundError\u001b[0m                       Traceback (most recent call last)",
      "\u001b[1;32m<ipython-input-15-a52ac6ec4bbc>\u001b[0m in \u001b[0;36m<module>\u001b[1;34m\u001b[0m\n\u001b[0;32m      3\u001b[0m \u001b[1;32mimport\u001b[0m \u001b[0mseaborn\u001b[0m \u001b[1;32mas\u001b[0m \u001b[0msns\u001b[0m\u001b[1;33m\u001b[0m\u001b[1;33m\u001b[0m\u001b[0m\n\u001b[0;32m      4\u001b[0m \u001b[1;32mimport\u001b[0m \u001b[0mmatplotlib\u001b[0m\u001b[1;33m.\u001b[0m\u001b[0mpyplot\u001b[0m \u001b[1;32mas\u001b[0m \u001b[0mplt\u001b[0m\u001b[1;33m\u001b[0m\u001b[1;33m\u001b[0m\u001b[0m\n\u001b[1;32m----> 5\u001b[1;33m \u001b[1;32mimport\u001b[0m \u001b[0msurprise\u001b[0m\u001b[1;33m\u001b[0m\u001b[1;33m\u001b[0m\u001b[0m\n\u001b[0m\u001b[0;32m      6\u001b[0m \u001b[1;31m# from surprise import SVD\u001b[0m\u001b[1;33m\u001b[0m\u001b[1;33m\u001b[0m\u001b[1;33m\u001b[0m\u001b[0m\n\u001b[0;32m      7\u001b[0m \u001b[1;31m# from surprise import accuracy\u001b[0m\u001b[1;33m\u001b[0m\u001b[1;33m\u001b[0m\u001b[1;33m\u001b[0m\u001b[0m\n",
      "\u001b[1;31mModuleNotFoundError\u001b[0m: No module named 'surprise'"
     ]
    }
   ],
   "source": [
    "import numpy as np\n",
    "import pandas as pd\n",
    "import seaborn as sns\n",
    "import matplotlib.pyplot as plt\n",
    "import surprise\n",
    "from surprise import SVD\n",
    "from surprise import accuracy\n",
    "from surprise.model_selection import train_test_split\n",
    "from surprise import Reader, Dataset\n",
    "from surprise import KNNBasic\n",
    "\n"
   ]
  },
  {
   "cell_type": "code",
   "execution_count": 5,
   "metadata": {},
   "outputs": [
    {
     "data": {
      "text/html": [
       "<div>\n",
       "<style scoped>\n",
       "    .dataframe tbody tr th:only-of-type {\n",
       "        vertical-align: middle;\n",
       "    }\n",
       "\n",
       "    .dataframe tbody tr th {\n",
       "        vertical-align: top;\n",
       "    }\n",
       "\n",
       "    .dataframe thead th {\n",
       "        text-align: right;\n",
       "    }\n",
       "</style>\n",
       "<table border=\"1\" class=\"dataframe\">\n",
       "  <thead>\n",
       "    <tr style=\"text-align: right;\">\n",
       "      <th></th>\n",
       "      <th>Job Title</th>\n",
       "      <th>Job Company</th>\n",
       "      <th>Job Type</th>\n",
       "      <th>Job Location</th>\n",
       "      <th>Job Posted</th>\n",
       "      <th>Job Link</th>\n",
       "      <th>Job Description</th>\n",
       "    </tr>\n",
       "  </thead>\n",
       "  <tbody>\n",
       "    <tr>\n",
       "      <th>0</th>\n",
       "      <td>Software Engineer* Dynamics 365</td>\n",
       "      <td>PERI</td>\n",
       "      <td>Contract</td>\n",
       "      <td>Weissenhorn, Germany</td>\n",
       "      <td>28 days ago</td>\n",
       "      <td>https://jobs.github.com/positions/241a62bb-3a2...</td>\n",
       "      <td>\\nSie tragen Verantwortung für\\n\\ndie agile An...</td>\n",
       "    </tr>\n",
       "    <tr>\n",
       "      <th>1</th>\n",
       "      <td>IT Projektmanager Campus (m/w/d)</td>\n",
       "      <td>ALDI Einkauf GmbH &amp; Co. oHG</td>\n",
       "      <td>Full Time</td>\n",
       "      <td>Essen</td>\n",
       "      <td>about 14 hours ago</td>\n",
       "      <td>https://jobs.github.com/positions/75998254-912...</td>\n",
       "      <td>\\nÜber uns\\nALDI Nord zählt mit einer mehr als...</td>\n",
       "    </tr>\n",
       "    <tr>\n",
       "      <th>2</th>\n",
       "      <td>Softwareentwickler (m/w/d) für Kliniksoftware C++</td>\n",
       "      <td>CompuGroup Medical SE &amp; Co. KGaA</td>\n",
       "      <td>Full Time</td>\n",
       "      <td>Höxter</td>\n",
       "      <td>about 15 hours ago</td>\n",
       "      <td>https://jobs.github.com/positions/3d8d6e41-66b...</td>\n",
       "      <td>\\nCompuGroup Medical hilft heilen\\nCompuGroup ...</td>\n",
       "    </tr>\n",
       "    <tr>\n",
       "      <th>3</th>\n",
       "      <td>Java Software Engineer</td>\n",
       "      <td>LINK Mobility Group</td>\n",
       "      <td>Full Time</td>\n",
       "      <td>Stockholm</td>\n",
       "      <td>about 16 hours ago</td>\n",
       "      <td>https://jobs.github.com/positions/552d321b-9a9...</td>\n",
       "      <td>\\nLINK Mobility Group AS is one of Europe's le...</td>\n",
       "    </tr>\n",
       "    <tr>\n",
       "      <th>4</th>\n",
       "      <td>iOS Developer (f/m/d)</td>\n",
       "      <td>Humanoo</td>\n",
       "      <td>Full Time</td>\n",
       "      <td>Berlin</td>\n",
       "      <td>about 17 hours ago</td>\n",
       "      <td>https://jobs.github.com/positions/3ad489ca-abc...</td>\n",
       "      <td>\\nHumanoo. Making people healthier - together ...</td>\n",
       "    </tr>\n",
       "  </tbody>\n",
       "</table>\n",
       "</div>"
      ],
      "text/plain": [
       "                                           Job Title  \\\n",
       "0                    Software Engineer* Dynamics 365   \n",
       "1                   IT Projektmanager Campus (m/w/d)   \n",
       "2  Softwareentwickler (m/w/d) für Kliniksoftware C++   \n",
       "3                             Java Software Engineer   \n",
       "4                              iOS Developer (f/m/d)   \n",
       "\n",
       "                        Job Company   Job Type          Job Location  \\\n",
       "0                              PERI   Contract  Weissenhorn, Germany   \n",
       "1       ALDI Einkauf GmbH & Co. oHG  Full Time                 Essen   \n",
       "2  CompuGroup Medical SE & Co. KGaA  Full Time                Höxter   \n",
       "3               LINK Mobility Group  Full Time             Stockholm   \n",
       "4                          Humanoo   Full Time               Berlin    \n",
       "\n",
       "           Job Posted                                           Job Link  \\\n",
       "0         28 days ago  https://jobs.github.com/positions/241a62bb-3a2...   \n",
       "1  about 14 hours ago  https://jobs.github.com/positions/75998254-912...   \n",
       "2  about 15 hours ago  https://jobs.github.com/positions/3d8d6e41-66b...   \n",
       "3  about 16 hours ago  https://jobs.github.com/positions/552d321b-9a9...   \n",
       "4  about 17 hours ago  https://jobs.github.com/positions/3ad489ca-abc...   \n",
       "\n",
       "                                     Job Description  \n",
       "0  \\nSie tragen Verantwortung für\\n\\ndie agile An...  \n",
       "1  \\nÜber uns\\nALDI Nord zählt mit einer mehr als...  \n",
       "2  \\nCompuGroup Medical hilft heilen\\nCompuGroup ...  \n",
       "3  \\nLINK Mobility Group AS is one of Europe's le...  \n",
       "4  \\nHumanoo. Making people healthier - together ...  "
      ]
     },
     "execution_count": 5,
     "metadata": {},
     "output_type": "execute_result"
    }
   ],
   "source": [
    "# read dataset \n",
    "jobs = pd.read_csv('dataset/export_dataframe.csv')\n",
    "jobs.head()"
   ]
  },
  {
   "cell_type": "code",
   "execution_count": 6,
   "metadata": {},
   "outputs": [
    {
     "data": {
      "text/html": [
       "<div>\n",
       "<style scoped>\n",
       "    .dataframe tbody tr th:only-of-type {\n",
       "        vertical-align: middle;\n",
       "    }\n",
       "\n",
       "    .dataframe tbody tr th {\n",
       "        vertical-align: top;\n",
       "    }\n",
       "\n",
       "    .dataframe thead th {\n",
       "        text-align: right;\n",
       "    }\n",
       "</style>\n",
       "<table border=\"1\" class=\"dataframe\">\n",
       "  <thead>\n",
       "    <tr style=\"text-align: right;\">\n",
       "      <th></th>\n",
       "      <th>Job Title</th>\n",
       "      <th>Job Company</th>\n",
       "      <th>Job Type</th>\n",
       "      <th>Job Location</th>\n",
       "      <th>Job Posted</th>\n",
       "      <th>Job Link</th>\n",
       "      <th>Job Description</th>\n",
       "    </tr>\n",
       "  </thead>\n",
       "  <tbody>\n",
       "    <tr>\n",
       "      <th>count</th>\n",
       "      <td>250</td>\n",
       "      <td>250</td>\n",
       "      <td>250</td>\n",
       "      <td>250</td>\n",
       "      <td>250</td>\n",
       "      <td>250</td>\n",
       "      <td>250</td>\n",
       "    </tr>\n",
       "    <tr>\n",
       "      <th>unique</th>\n",
       "      <td>47</td>\n",
       "      <td>37</td>\n",
       "      <td>2</td>\n",
       "      <td>31</td>\n",
       "      <td>14</td>\n",
       "      <td>50</td>\n",
       "      <td>50</td>\n",
       "    </tr>\n",
       "    <tr>\n",
       "      <th>top</th>\n",
       "      <td>Senior Software Engineer</td>\n",
       "      <td>Reaktor</td>\n",
       "      <td>Full Time</td>\n",
       "      <td>Remote</td>\n",
       "      <td>4 days ago</td>\n",
       "      <td>https://jobs.github.com/positions/9abd59e0-52c...</td>\n",
       "      <td>\\nSUMMARY\\nThe iFit Mobile Development Team is...</td>\n",
       "    </tr>\n",
       "    <tr>\n",
       "      <th>freq</th>\n",
       "      <td>10</td>\n",
       "      <td>20</td>\n",
       "      <td>240</td>\n",
       "      <td>55</td>\n",
       "      <td>55</td>\n",
       "      <td>5</td>\n",
       "      <td>5</td>\n",
       "    </tr>\n",
       "  </tbody>\n",
       "</table>\n",
       "</div>"
      ],
      "text/plain": [
       "                       Job Title Job Company   Job Type Job Location  \\\n",
       "count                        250         250        250          250   \n",
       "unique                        47          37          2           31   \n",
       "top     Senior Software Engineer     Reaktor  Full Time       Remote   \n",
       "freq                          10          20        240           55   \n",
       "\n",
       "        Job Posted                                           Job Link  \\\n",
       "count          250                                                250   \n",
       "unique          14                                                 50   \n",
       "top     4 days ago  https://jobs.github.com/positions/9abd59e0-52c...   \n",
       "freq            55                                                  5   \n",
       "\n",
       "                                          Job Description  \n",
       "count                                                 250  \n",
       "unique                                                 50  \n",
       "top     \\nSUMMARY\\nThe iFit Mobile Development Team is...  \n",
       "freq                                                    5  "
      ]
     },
     "execution_count": 6,
     "metadata": {},
     "output_type": "execute_result"
    }
   ],
   "source": [
    "# EDA (Exploritary Data Analysis)\n",
    "jobs.describe()\n"
   ]
  },
  {
   "cell_type": "code",
   "execution_count": 7,
   "metadata": {},
   "outputs": [
    {
     "name": "stdout",
     "output_type": "stream",
     "text": [
      "<class 'pandas.core.frame.DataFrame'>\n",
      "RangeIndex: 250 entries, 0 to 249\n",
      "Data columns (total 7 columns):\n",
      " #   Column           Non-Null Count  Dtype \n",
      "---  ------           --------------  ----- \n",
      " 0   Job Title        250 non-null    object\n",
      " 1   Job Company      250 non-null    object\n",
      " 2   Job Type         250 non-null    object\n",
      " 3   Job Location     250 non-null    object\n",
      " 4   Job Posted       250 non-null    object\n",
      " 5   Job Link         250 non-null    object\n",
      " 6   Job Description  250 non-null    object\n",
      "dtypes: object(7)\n",
      "memory usage: 13.8+ KB\n"
     ]
    }
   ],
   "source": [
    "jobs.info()"
   ]
  },
  {
   "cell_type": "code",
   "execution_count": 9,
   "metadata": {},
   "outputs": [
    {
     "data": {
      "text/plain": [
       "Full Time    240\n",
       "Contract      10\n",
       "Name: jobTypes, dtype: int64"
      ]
     },
     "execution_count": 9,
     "metadata": {},
     "output_type": "execute_result"
    }
   ],
   "source": [
    "# change column name\n",
    "jobs.rename(columns={\"Job Type\": \"jobTypes\"}, inplace=True)\n",
    "\n",
    "job_types = jobs[\"jobTypes\"].value_counts()\n",
    "job_types"
   ]
  },
  {
   "cell_type": "code",
   "execution_count": 10,
   "metadata": {},
   "outputs": [
    {
     "data": {
      "image/png": "[encoded data removed]",
      "text/plain": [
       "<Figure size 720x576 with 1 Axes>"
      ]
     },
     "metadata": {
      "needs_background": "light"
     },
     "output_type": "display_data"
    }
   ],
   "source": [
    "dims = (10, 8)\n",
    "fig, ax = plt.subplots(figsize=dims)\n",
    "ax = sns.countplot(x=jobs[\"jobTypes\"])\n",
    "\n",
    "# Job Tipe : dikuasai oleh tipe pekerjaan dengan pekerjaan full time dibandingkan tipe contract yang berjumlah hanya 10"
   ]
  },
  {
   "cell_type": "code",
   "execution_count": 12,
   "metadata": {},
   "outputs": [
    {
     "data": {
      "text/plain": [
       "Remote                               55\n",
       "Sydney, Australia                    15\n",
       "Schwerin                             10\n",
       "Amsterdam, Netherlands               10\n",
       "Berlin                               10\n",
       "London                               10\n",
       "Berlin                               10\n",
       "Munich                               10\n",
       "New York, NY                         10\n",
       "New Jersey                            5\n",
       "Sydney                                5\n",
       "Norman, OK                            5\n",
       "San Francisco or Remote               5\n",
       "St. Louis MO                          5\n",
       "United States                         5\n",
       "Höxter                                5\n",
       "Utrecht, Netherlands                  5\n",
       "UK, Spain or France                   5\n",
       "Oxford                                5\n",
       "Zeist                                 5\n",
       "Essen                                 5\n",
       "Berlin, Bundesweit, Homeoffice        5\n",
       "Amsterdam/Remote (UTC-1 to UTC+3)     5\n",
       "Weissenhorn, Germany                  5\n",
       "Pittsburgh, PA                        5\n",
       "Remote/CO                             5\n",
       "Stockholm                             5\n",
       "Anywhere                              5\n",
       "Vancouver                             5\n",
       "Indianapolis                          5\n",
       "Langen / Hessen (Germany)             5\n",
       "Name: jobLocations, dtype: int64"
      ]
     },
     "execution_count": 12,
     "metadata": {},
     "output_type": "execute_result"
    }
   ],
   "source": [
    "jobs.rename(columns={\"Job Location\": \"jobLocations\"}, inplace=True)\n",
    "\n",
    "job_locations = jobs[\"jobLocations\"].value_counts()\n",
    "job_locations"
   ]
  },
  {
   "cell_type": "code",
   "execution_count": null,
   "metadata": {},
   "outputs": [],
   "source": []
  },
  {
   "cell_type": "code",
   "execution_count": null,
   "metadata": {},
   "outputs": [],
   "source": []
  },
  {
   "cell_type": "code",
   "execution_count": null,
   "metadata": {},
   "outputs": [],
   "source": []
  },
  {
   "cell_type": "code",
   "execution_count": null,
   "metadata": {},
   "outputs": [],
   "source": []
  },
  {
   "cell_type": "code",
   "execution_count": null,
   "metadata": {},
   "outputs": [],
   "source": []
  }
 ],
 "metadata": {
  "kernelspec": {
   "display_name": "Python 3",
   "language": "python",
   "name": "python3"
  },
  "language_info": {
   "codemirror_mode": {
    "name": "ipython",
    "version": 3
   },
   "file_extension": ".py",
   "mimetype": "text/x-python",
   "name": "python",
   "nbconvert_exporter": "python",
   "pygments_lexer": "ipython3",
   "version": "3.9.0"
  }
 },
 "nbformat": 4,
 "nbformat_minor": 4
}
